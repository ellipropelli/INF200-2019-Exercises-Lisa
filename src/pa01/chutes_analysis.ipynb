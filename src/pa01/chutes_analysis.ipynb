{
 "cells": [
  {
   "cell_type": "markdown",
   "metadata": {},
   "source": [
    "## Analysis"
   ]
  },
  {
   "cell_type": "markdown",
   "metadata": {},
   "source": [
    "### Importing our snakes_and_ladders file"
   ]
  },
  {
   "cell_type": "code",
   "execution_count": 1,
   "metadata": {},
   "outputs": [
    {
     "name": "stdout",
     "output_type": "stream",
     "text": [
      "The shortest game duration 5\n",
      "The longest game duration 56\n",
      "The median game duration 16\n",
      "The mean game duration 17.33\n",
      "standard deviation 8.555764138871526\n"
     ]
    }
   ],
   "source": [
    "# load snakes_and_ladders\n",
    "\n",
    "__author__ = 'Lisa Hoff, Elinor Brede Skårås'\n",
    "__email__ = 'lisast@nmbu.no, elinor2511@gmail.com'\n",
    "\n",
    "import random\n",
    "import math\n",
    "\n",
    "\n",
    "def roll_dice():\n",
    "    \"\"\"\n",
    "    Returns random number of dice.\n",
    "    \"\"\"\n",
    "    return random.randint(1, 6)\n",
    "\n",
    "\n",
    "def move_position(position):\n",
    "    \"\"\"\n",
    "    Roll the dice, and moves the position. \n",
    "    Checks if the new position is on a ladder or snake and if that´s the case \n",
    "    then the position is changed either up or down \n",
    "    \n",
    "    :param position: original position\n",
    "    :return: new_position: new position after one throw\n",
    "    \"\"\"\n",
    "    ladders_snakes = {1: 40, 8: 10, 36: 52, 43: 62, 49: 79, 65: 82, 68: 85,\n",
    "                      24: 5, 33: 3, 42: 30, 56: 37, 64: 27, 74: 12, 87: 70}\n",
    "\n",
    "    throw = roll_dice()\n",
    "    position += throw\n",
    "\n",
    "    if position in ladders_snakes:\n",
    "        position = ladders_snakes[position]\n",
    "\n",
    "    return position\n",
    "\n",
    "\n",
    "def end_of_game(positions):\n",
    "    \"\"\"\n",
    "    Returns True when one player has reached the goal. (position >= 90)\n",
    "    :param positions:\n",
    "    :return: \n",
    "    \"\"\"\n",
    "    for number in positions:\n",
    "        if number >= 90:\n",
    "            return True\n",
    "\n",
    "\n",
    "def single_game(num_players):\n",
    "    \"\"\"\n",
    "    Returns duration of single game.\n",
    "\n",
    "    Arguments\n",
    "    ---------\n",
    "    num_players : int\n",
    "        Number of players in the game\n",
    "\n",
    "    Returns\n",
    "    -------\n",
    "    num_moves : int\n",
    "        Number of moves the winning player needed to reach the goal\n",
    "    \"\"\"\n",
    "\n",
    "    positions = [0] * num_players\n",
    "    num_moves = 0\n",
    "\n",
    "    while end_of_game(positions) is not True:\n",
    "        num_moves += 1\n",
    "        for player in range(num_players):\n",
    "            positions[player] = move_position(positions[player])\n",
    "    return num_moves\n",
    "\n",
    "\n",
    "def multiple_games(num_games, num_players):\n",
    "    \"\"\"\n",
    "    Returns durations of a number of games.\n",
    "\n",
    "    Arguments\n",
    "    ---------\n",
    "    num_games : int\n",
    "        Number of games to play\n",
    "    num_players : int\n",
    "        Number of players in the game\n",
    "\n",
    "    Returns\n",
    "    -------\n",
    "    num_moves : list\n",
    "        List with the number of moves needed in each game.\n",
    "    \"\"\"\n",
    "\n",
    "    num_moves = []\n",
    "    for game in range(num_games):\n",
    "        moves_single_game = single_game(num_players)\n",
    "        num_moves.append(moves_single_game)\n",
    "    return num_moves\n",
    "\n",
    "\n",
    "def multi_game_experiment(num_games, num_players, seed):\n",
    "    \"\"\"\n",
    "    Returns durations of a number of games when playing with given seed.\n",
    "\n",
    "    Arguments\n",
    "    ---------\n",
    "    num_games : int\n",
    "        Number of games to play\n",
    "    num_players : int\n",
    "        Number of players in the game\n",
    "    seed : int\n",
    "        Seed used to initialise the random number generator\n",
    "\n",
    "    Returns\n",
    "    -------\n",
    "    num_moves : list\n",
    "        List with the number of moves needed in each game.\n",
    "    \"\"\"\n",
    "    random.seed(seed)\n",
    "\n",
    "    num_moves = []\n",
    "    for game in range(num_games):\n",
    "        moves_single_game = single_game(num_players)\n",
    "        num_moves.append(moves_single_game)\n",
    "    return num_moves\n",
    "\n",
    "\n",
    "def standard_deviation(data, mean):\n",
    "    std_d = 0\n",
    "    for number in data:\n",
    "        std_d += (number - mean) ** 2\n",
    "    std_d = math.sqrt(std_d / (len(data)))\n",
    "\n",
    "    return std_d\n",
    "\n",
    "\n",
    "if __name__ == '__main__':\n",
    "    test_games = multi_game_experiment(100, 4, 2)\n",
    "\n",
    "    mean_dur = sum(test_games)/100\n",
    "\n",
    "    print('The shortest game duration', min(test_games))\n",
    "    print('The longest game duration', max(test_games))\n",
    "    print('The median game duration', sorted(test_games)[50])\n",
    "    print('The mean game duration', mean_dur)\n",
    "    print('standard deviation', standard_deviation(test_games, mean_dur))\n"
   ]
  },
  {
   "cell_type": "markdown",
   "metadata": {},
   "source": [
    "### Executing the analysis"
   ]
  },
  {
   "cell_type": "code",
   "execution_count": 3,
   "metadata": {},
   "outputs": [
    {
     "data": {
      "image/png": "[encoded data removed]",
      "text/plain": [
       "<Figure size 432x288 with 1 Axes>"
      ]
     },
     "metadata": {
      "needs_background": "light"
     },
     "output_type": "display_data"
    },
    {
     "data": {
      "image/png": "[encoded data removed]",
      "text/plain": [
       "<Figure size 432x288 with 1 Axes>"
      ]
     },
     "metadata": {
      "needs_background": "light"
     },
     "output_type": "display_data"
    },
    {
     "data": {
      "image/png": "[encoded data removed]",
      "text/plain": [
       "<Figure size 432x288 with 1 Axes>"
      ]
     },
     "metadata": {
      "needs_background": "light"
     },
     "output_type": "display_data"
    },
    {
     "data": {
      "image/png": "[encoded data removed]",
      "text/plain": [
       "<Figure size 432x288 with 1 Axes>"
      ]
     },
     "metadata": {
      "needs_background": "light"
     },
     "output_type": "display_data"
    }
   ],
   "source": [
    "one_player = multiple_games(100, 1)\n",
    "two_players = multiple_games(100, 2)\n",
    "four_players = multiple_games(100, 4)\n",
    "eight_players = multiple_games(100, 8)\n",
    "\n",
    "from matplotlib import pyplot as plt\n",
    "\n",
    "\n",
    "plt.hist(one_player, bins = 10, histtype = 'step')\n",
    "plt.title('Histogram, 1 player')\n",
    "plt.ylabel('Number of games')\n",
    "plt.xlabel('Moves')\n",
    "plt.show()\n",
    "plt.close()\n",
    "\n",
    "plt.hist(two_players, bins = 10, histtype = 'step')\n",
    "plt.title('Histogram, 2 players')\n",
    "plt.ylabel('Number of games')\n",
    "plt.xlabel('Moves')\n",
    "plt.show()\n",
    "plt.close()\n",
    "    \n",
    "plt.hist(four_players, bins = 10, histtype = 'step')\n",
    "plt.title('Histogram, 4 players')\n",
    "plt.ylabel('Number of games')\n",
    "plt.xlabel('Moves')\n",
    "plt.show()\n",
    "plt.close()\n",
    "\n",
    "plt.hist(eight_players, bins = 10, histtype = 'step')\n",
    "plt.title('Histogram, 8 players')\n",
    "plt.ylabel('Number of games')\n",
    "plt.xlabel('Moves')\n",
    "plt.show()\n",
    "plt.close()\n"
   ]
  }
 ],
 "metadata": {
  "kernelspec": {
   "display_name": "Python 3",
   "language": "python",
   "name": "python3"
  },
  "language_info": {
   "codemirror_mode": {
    "name": "ipython",
    "version": 3
   },
   "file_extension": ".py",
   "mimetype": "text/x-python",
   "name": "python",
   "nbconvert_exporter": "python",
   "pygments_lexer": "ipython3",
   "version": "3.7.3"
  }
 },
 "nbformat": 4,
 "nbformat_minor": 4
}
